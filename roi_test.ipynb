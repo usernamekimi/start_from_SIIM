{
 "cells": [
  {
   "cell_type": "code",
   "execution_count": 1,
   "metadata": {},
   "outputs": [],
   "source": [
    "import cv2\n",
    "import matplotlib.pyplot as plt\n",
    "import numpy as np\n",
    "import os\n",
    "import shutil"
   ]
  },
  {
   "cell_type": "code",
   "execution_count": 8,
   "metadata": {},
   "outputs": [],
   "source": [
    "def get_roi(xy, img):\n",
    "    #适用于长宽相等的图片\n",
    "    size = img.shape[0]\n",
    "    if len(xy[0]) > 1:\n",
    "        min_x = np.min(xy[0])\n",
    "        max_x = np.max(xy[0]) + 1\n",
    "        max_x = max_x if max_x <= size else size\n",
    "    else:\n",
    "        min_x = 0 \n",
    "        max_x = size\n",
    "    if len(xy[1]) > 1:\n",
    "        min_y = np.min(xy[1])\n",
    "        max_y = np.max(xy[1]) + 1\n",
    "        max_y = max_y if max_y <= size else size\n",
    "    else:\n",
    "        min_y = 0\n",
    "        max_y = size\n",
    "    roi_img = img[min_x:max_x, min_y:max_y]\n",
    "    return roi_img"
   ]
  },
  {
   "cell_type": "code",
   "execution_count": 9,
   "metadata": {},
   "outputs": [],
   "source": [
    "def extract_roi_from_gray(img_dir, save_dir):\n",
    "    if os.path.exists(save_dir):\n",
    "        shutil.rmtree(save_dir)\n",
    "        os.makedirs(save_dir)\n",
    "    else:\n",
    "        os.makedirs(save_dir)\n",
    "    for filename in os.listdir(img_dir):\n",
    "#         print(filename)\n",
    "        img = cv2.imread(f'{img_dir}/{filename}')\n",
    "        size = img.shape[0]\n",
    "        img_gray = cv2.cvtColor(img, cv2.COLOR_BGR2GRAY)\n",
    "        bit = img_gray <= 150\n",
    "        mask = img_gray * bit\n",
    "        kernel = np.ones((3,3), np.uint8) \n",
    "        img_erosion = cv2.erode(mask, kernel, iterations=20) \n",
    "        img_erosion_dia = cv2.dilate(img_erosion, kernel,iterations=20)\n",
    "        xy = np.nonzero(img_erosion_dia)\n",
    "        roi_img = get_roi(xy, img)\n",
    "#         print(img.shape, \"roi_img's size\", roi_img.shape)\n",
    "        roi_img = cv2.resize(roi_img, (size, size))\n",
    "        cv2.imwrite(f'{save_dir}/{filename}', roi_img)"
   ]
  },
  {
   "cell_type": "code",
   "execution_count": 11,
   "metadata": {},
   "outputs": [],
   "source": [
    "# result = cv2.bitwise_and(g, g, mask=np.array(k))\n",
    "# plt.imshow(result)\n",
    "def extract_roi(cam_path, img_dir):\n",
    "    cam = cv2.imread(cam_path)\n",
    "    if cam_path[-24] != 'I':\n",
    "        img_path = img_dir + \"/\" + cam_path[-36:-8]\n",
    "    else:\n",
    "        img_path = img_dir + \"/\" + cam_path[-24:-8]\n",
    "#     print(img_path, \"************\")\n",
    "#     print(img_path, \"KKKKKKK\")\n",
    "    img = cv2.imread(img_path)\n",
    "    size = img.shape[0]\n",
    "#     print(img.shape,\"iiiiii\")\n",
    "    gray_cam = cv2.cvtColor(cam, cv2.COLOR_BGR2GRAY)\n",
    "    #140 is value of gray, random select according of color\n",
    "    bit = gray_cam > 140\n",
    "    mask = gray_cam * bit\n",
    "#     print(mask)\n",
    "    xy = np.nonzero(mask)\n",
    "    roi_img = get_roi(xy, img)\n",
    "    print(cam.shape, \"roi_img's size\", roi_img.shape)\n",
    "    roi_img = cv2.resize(roi_img, (size, size))\n",
    "    return roi_img"
   ]
  },
  {
   "cell_type": "code",
   "execution_count": 12,
   "metadata": {},
   "outputs": [],
   "source": [
    "def cam_to_img(cam_dir, img_dir, save_dir, have_tran_dir):\n",
    "    #用这个方法的前提是cam是要足够准确\n",
    "    #have_tran_dir可要可不要，只是为了看看已经转换好的图片\n",
    "#     num = 0\n",
    "    if os.path.exists(save_dir):\n",
    "        shutil.rmtree(save_dir)\n",
    "        os.makedirs(save_dir)\n",
    "    else:\n",
    "        os.makedirs(save_dir)\n",
    "    for filename in os.listdir(cam_dir):\n",
    "        cam_path = cam_dir + \"/\" + filename\n",
    "        img = extract_roi(cam_path, img_dir)\n",
    "        if filename[12] != '.':\n",
    "            cv2.imwrite(f'{save_dir}/{filename[:28]}', img)\n",
    "        else:\n",
    "            cv2.imwrite(f'{save_dir}/{filename[:16]}', img)"
   ]
  },
  {
   "cell_type": "code",
   "execution_count": null,
   "metadata": {},
   "outputs": [],
   "source": [
    "# cam_dir = '/home/xhzhu/mycode/siim_code/all_img_cam'\n",
    "img_dir = '/home/xhzhu/data/my_siim/512x512-dataset-melanoma/512x512-dataset-melanoma'\n",
    "save_dir = './all_roi_img'\n",
    "have_tran_dir = './have_converted'\n",
    "#cam_to_img(cam_dir=cam_dir, img_dir=img_dir, save_dir=save_dir, have_tran_dir=have_tran_dir)\n",
    "extract_roi_from_gray(img_dir, save_dir)"
   ]
  }
 ],
 "metadata": {
  "kernelspec": {
   "display_name": "Python 3",
   "language": "python",
   "name": "python3"
  },
  "language_info": {
   "codemirror_mode": {
    "name": "ipython",
    "version": 3
   },
   "file_extension": ".py",
   "mimetype": "text/x-python",
   "name": "python",
   "nbconvert_exporter": "python",
   "pygments_lexer": "ipython3",
   "version": "3.7.1"
  }
 },
 "nbformat": 4,
 "nbformat_minor": 4
}
